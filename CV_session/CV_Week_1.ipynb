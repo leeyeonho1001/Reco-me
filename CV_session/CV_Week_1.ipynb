{
  "cells": [
    {
      "cell_type": "markdown",
      "source": [
        "# Basic Study CV Session Week 1\n",
        "\n",
        "이번 과제는 colab, torch 등 Deep learning 코드의 가장 기본적인 부분들부터 CNN 구현까지의 내용입니다. DL에 대해 코드를 많이 작성하고 디버깅 해보신 분들도 정독하시고, 아는 것들을 복습하는 시간이 되었으면 좋겠습니다.\n",
        "\n",
        "\n",
        "> `이번 CNN 구현은 MNIST(손글씨 이미지)를 간단한 CNN class로 학습하는 과제입니다.`\n",
        "\n",
        "\n",
        "> ***Text들을 잘 읽으시고, 빈칸을 채워서 과제를 7월 15일(월)까지 저에게 DM으로 .ipynb로 제출하시면 됩니다.***\n"
      ],
      "metadata": {
        "id": "5EVzdFoSHEj_"
      },
      "id": "5EVzdFoSHEj_"
    },
    {
      "cell_type": "markdown",
      "source": [
        "## Basic of DL Programming\n",
        "\n",
        "DL 프로그래밍을 할 때 기본적으로 필요한 것은 컴퓨터와 코드입니다.\n",
        "이 때, DL은 많은 parameter(연상량)을 기본으로 하는 분야기 때문에 현재는 **GPU에서 연산을 하는 방식을 취하고 있습니다**. 모든 사람이 GPU를 보유하고 있는 것이 아니기 때문에 이러한 하드웨어 측면을 Colab을 통하여 극복합니다.\n",
        "\n",
        "Colab은 우리가 웹에서 DL 학습을 할 수 있는 좋은 환경을 제공하지만, local PC만큼 세팅이 자유로운 것은 아니며, 거의 모든 툴들이 최신 버전으로 업데이트 되어 있습니다. 하지만 여러분이 사용하는 많은 github 코드들은 각자만의 conda(가상환경)을 기반으로 이전 버전을 기반으로 작동하게 작성되어 있는 경우도 많기 때문에 이러한 부분에서는 colab이 자유롭지 못하다는 단점이 있습니다."
      ],
      "metadata": {
        "id": "HEJyftLeHpoG"
      },
      "id": "HEJyftLeHpoG"
    },
    {
      "cell_type": "markdown",
      "source": [
        "### Google Colab\n",
        "\n",
        "Google Colab은 클라우드에서 실행되는 Jupyter Notebook 환경으로, 데이터 과학 및 머신 러닝 실험을 수행할 수 있도록 지원합니다. Colab은 Google Drive와 연동되어 있어 파일을 저장하고 공유하기에 편리합니다.\n",
        "\n",
        "Google Colab의 주요 특징:\n",
        "- **무료 GPU/TPU 사용**: Colab은 무료로 GPU 및 TPU를 사용할 수 있게 해주어, 대규모 계산을 빠르게 수행할 수 있습니다. ***(여러분은 T4로 런타임 유형을 바꾼 후 과제를 진행해주세요!)***\n",
        "- **설치 필요 없음**: 브라우저에서 실행되므로 별도의 설치가 필요 없습니다.\n",
        "- **풍부한 라이브러리**: 다양한 머신 러닝 및 데이터 과학 라이브러리가 사전 설치되어 있어 바로 사용할 수 있습니다.\n",
        "\n",
        "<img src=\"https://upload.wikimedia.org/wikipedia/commons/thumb/d/d0/Google_Colaboratory_SVG_Logo.svg/512px-Google_Colaboratory_SVG_Logo.svg.png\" alt=\"Colab 로고\" width=\"300\"/>\n"
      ],
      "metadata": {
        "id": "LHm1UuUVGQ9p"
      },
      "id": "LHm1UuUVGQ9p"
    },
    {
      "cell_type": "markdown",
      "source": [
        "### Conda\n",
        "\n",
        "Conda는 데이터 과학 및 머신 러닝 환경을 관리하는 패키지 관리자입니다. conda를 사용하면 패키지와 그에 필요한 모든 종속성을 손쉽게 설치하고 관리할 수 있습니다.\n",
        "\n",
        "Conda의 주요 기능:\n",
        "- **환경 관리**: 프로젝트마다 독립된 환경을 생성하고 관리할 수 있습니다.\n",
        "- **패키지 설치**: 다양한 패키지를 간편하게 설치하고 업데이트할 수 있습니다.\n",
        "- **호환성 관리**: 패키지 간의 종속성을 자동으로 관리하여 호환성을 보장합니다.\n",
        "\n",
        "<img src=\"https://upload.wikimedia.org/wikipedia/en/c/cd/Anaconda_Logo.png\" alt=\"conda 로고\" width=\"300\"/>"
      ],
      "metadata": {
        "id": "kvBAHUH9FSw7"
      },
      "id": "kvBAHUH9FSw7"
    },
    {
      "cell_type": "markdown",
      "source": [
        "### PyTorch\n",
        "\n",
        "PyTorch는 딥러닝 연구 및 애플리케이션을 위한 오픈소스 라이브러리입니다. PyTorch는 유연성과 사용 편의성 덕분에 널리 사용되고 있습니다.\n",
        "\n",
        "PyTorch의 주요 특징:\n",
        "- **동적 그래프**: 계산 그래프를 동적으로 생성하여 유연한 모델링이 가능합니다.\n",
        "- **자동 미분**: Autograd를 사용하여 자동으로 기울기를 계산할 수 있습니다.\n",
        "- **다양한 모듈**: 신경망을 쉽게 구축할 수 있는 다양한 모듈을 제공합니다.\n",
        "\n",
        "<img src=\"https://pytorch.org/assets/images/pytorch-logo.png\" alt=\"PyTorch 로고\" width=\"300\"/>\n"
      ],
      "metadata": {
        "id": "Xp0ti45zFVyc"
      },
      "id": "Xp0ti45zFVyc"
    },
    {
      "cell_type": "code",
      "source": [
        "# Library\n",
        "import torch\n",
        "import torch.nn as nn\n",
        "import torch.optim as optim\n",
        "import torchvision\n",
        "import torchvision.transforms as transforms\n",
        "\n",
        "import matplotlib.pyplot as plt"
      ],
      "metadata": {
        "id": "_xLLIKND6EN3"
      },
      "id": "_xLLIKND6EN3",
      "execution_count": 2,
      "outputs": []
    },
    {
      "cell_type": "code",
      "source": [
        "# HyperParmeter를 설정해보세요!\n",
        "batch_size =  64      #64\n",
        "learning_rate =  0.001   #0.001\n",
        "num_epochs =  10      #10"
      ],
      "metadata": {
        "id": "9wJZAgrd6OZ6"
      },
      "id": "9wJZAgrd6OZ6",
      "execution_count": 3,
      "outputs": []
    },
    {
      "cell_type": "markdown",
      "source": [
        "## MNIST Dataset\n",
        "\n",
        "이번 과제의 data는 MNIST입니다.\n",
        "\n",
        "MNIST 데이터셋은 손으로 쓴 숫자(0-9)를 포함하는 이미지 데이터셋입니다. 이 데이터셋은 머신 러닝 알고리즘을 훈련하고 테스트하는 데 널리 사용됩니다.\n",
        "\n",
        "MNIST 데이터셋의 특징:\n",
        "- **훈련 이미지**: 60,000장\n",
        "- **테스트 이미지**: 10,000장\n",
        "- **이미지 크기**: 28x28 픽셀\n",
        "- **채널**: 그레이스케일 (1 채널)\n",
        "\n",
        "![MNIST 데이터셋](https://upload.wikimedia.org/wikipedia/commons/2/27/MnistExamples.png)\n"
      ],
      "metadata": {
        "id": "hx1dVPBZFL5G"
      },
      "id": "hx1dVPBZFL5G"
    },
    {
      "cell_type": "code",
      "source": [
        "# Dataset load, preprocess\n",
        "transform = transforms.Compose([\n",
        "    transforms.ToTensor(),\n",
        "    transforms.Normalize((0.1307,), (0.3081,))\n",
        "])\n",
        "\n",
        "train_dataset = torchvision.datasets.MNIST(root='./data', train=True, download=True, transform=transform)\n",
        "test_dataset = torchvision.datasets.MNIST(root='./data', train=False, download=True, transform=transform)\n",
        "\n",
        "train_loader = torch.utils.data.DataLoader(dataset=train_dataset, batch_size=batch_size, shuffle=True)\n",
        "test_loader = torch.utils.data.DataLoader(dataset=test_dataset, batch_size=batch_size, shuffle=False)"
      ],
      "metadata": {
        "id": "QQmhOiAI6RME",
        "colab": {
          "base_uri": "https://localhost:8080/"
        },
        "outputId": "578927de-8e94-4510-cfd4-ac5058fc35a9"
      },
      "id": "QQmhOiAI6RME",
      "execution_count": 4,
      "outputs": [
        {
          "output_type": "stream",
          "name": "stdout",
          "text": [
            "Downloading http://yann.lecun.com/exdb/mnist/train-images-idx3-ubyte.gz\n",
            "Failed to download (trying next):\n",
            "HTTP Error 403: Forbidden\n",
            "\n",
            "Downloading https://ossci-datasets.s3.amazonaws.com/mnist/train-images-idx3-ubyte.gz\n",
            "Downloading https://ossci-datasets.s3.amazonaws.com/mnist/train-images-idx3-ubyte.gz to ./data/MNIST/raw/train-images-idx3-ubyte.gz\n"
          ]
        },
        {
          "output_type": "stream",
          "name": "stderr",
          "text": [
            "100%|██████████| 9912422/9912422 [00:00<00:00, 51321512.50it/s]\n"
          ]
        },
        {
          "output_type": "stream",
          "name": "stdout",
          "text": [
            "Extracting ./data/MNIST/raw/train-images-idx3-ubyte.gz to ./data/MNIST/raw\n",
            "\n",
            "Downloading http://yann.lecun.com/exdb/mnist/train-labels-idx1-ubyte.gz\n",
            "Failed to download (trying next):\n",
            "HTTP Error 403: Forbidden\n",
            "\n",
            "Downloading https://ossci-datasets.s3.amazonaws.com/mnist/train-labels-idx1-ubyte.gz\n",
            "Downloading https://ossci-datasets.s3.amazonaws.com/mnist/train-labels-idx1-ubyte.gz to ./data/MNIST/raw/train-labels-idx1-ubyte.gz\n"
          ]
        },
        {
          "output_type": "stream",
          "name": "stderr",
          "text": [
            "100%|██████████| 28881/28881 [00:00<00:00, 1742809.17it/s]\n"
          ]
        },
        {
          "output_type": "stream",
          "name": "stdout",
          "text": [
            "Extracting ./data/MNIST/raw/train-labels-idx1-ubyte.gz to ./data/MNIST/raw\n",
            "\n",
            "Downloading http://yann.lecun.com/exdb/mnist/t10k-images-idx3-ubyte.gz\n",
            "Failed to download (trying next):\n",
            "HTTP Error 403: Forbidden\n",
            "\n",
            "Downloading https://ossci-datasets.s3.amazonaws.com/mnist/t10k-images-idx3-ubyte.gz\n",
            "Downloading https://ossci-datasets.s3.amazonaws.com/mnist/t10k-images-idx3-ubyte.gz to ./data/MNIST/raw/t10k-images-idx3-ubyte.gz\n"
          ]
        },
        {
          "output_type": "stream",
          "name": "stderr",
          "text": [
            "100%|██████████| 1648877/1648877 [00:00<00:00, 14042447.59it/s]\n"
          ]
        },
        {
          "output_type": "stream",
          "name": "stdout",
          "text": [
            "Extracting ./data/MNIST/raw/t10k-images-idx3-ubyte.gz to ./data/MNIST/raw\n",
            "\n",
            "Downloading http://yann.lecun.com/exdb/mnist/t10k-labels-idx1-ubyte.gz\n",
            "Failed to download (trying next):\n",
            "HTTP Error 403: Forbidden\n",
            "\n",
            "Downloading https://ossci-datasets.s3.amazonaws.com/mnist/t10k-labels-idx1-ubyte.gz\n",
            "Downloading https://ossci-datasets.s3.amazonaws.com/mnist/t10k-labels-idx1-ubyte.gz to ./data/MNIST/raw/t10k-labels-idx1-ubyte.gz\n"
          ]
        },
        {
          "output_type": "stream",
          "name": "stderr",
          "text": [
            "100%|██████████| 4542/4542 [00:00<00:00, 4173171.69it/s]"
          ]
        },
        {
          "output_type": "stream",
          "name": "stdout",
          "text": [
            "Extracting ./data/MNIST/raw/t10k-labels-idx1-ubyte.gz to ./data/MNIST/raw\n",
            "\n"
          ]
        },
        {
          "output_type": "stream",
          "name": "stderr",
          "text": [
            "\n"
          ]
        }
      ]
    },
    {
      "cell_type": "markdown",
      "source": [
        "## Convolutional Neural Network (CNN)\n",
        "\n",
        "**Session때 말씀드렸던 대로 보통 DL model은 class로 정의하여 사용합니다.**\n",
        "\n",
        "> **가장 기본적인 구성은 init, forward입니다.**\n",
        "\n",
        "\n",
        "Convolutional Neural Network (CNN)은 주로 이미지 인식 및 분류에 사용되는 딥러닝 모델입니다. CNN은 이미지의 공간적 계층 구조를 학습하여 특징을 추출하고 이를 기반으로 분류 작업을 수행합니다.\n",
        "\n",
        "CNN의 주요 구성 요소는 다음과 같습니다:\n",
        "- **Convolutional Layer**: 필터를 사용하여 입력 이미지에서 특징 맵을 추출합니다.\n",
        "- **Pooling Layer**: 특징 맵의 차원을 축소하여 계산량을 줄이고 중요한 정보를 유지합니다.\n",
        "- **Fully Connected Layer**: 추출된 특징을 사용하여 최종 분류 작업을 수행합니다."
      ],
      "metadata": {
        "id": "rIkMdkXfFC9P"
      },
      "id": "rIkMdkXfFC9P"
    },
    {
      "cell_type": "code",
      "source": [
        "# CNN Model\n",
        "class CNN(nn.Module):  # Define a class for the CNN model\n",
        "    def __init__(self):  # Initialization method\n",
        "        super(CNN, self).__init__()  # Call the parent class constructor\n",
        "        self.layer1 = nn.Sequential(  # Define the first layer\n",
        "            nn.Conv2d(1, 32, kernel_size=3, padding=1),  # 2D convolutional layer\n",
        "            nn.ReLU(),  # ReLU activation function\n",
        "            nn.MaxPool2d(kernel_size=2, stride=2)  # Max pooling layer\n",
        "        )\n",
        "        self.layer2 = nn.Sequential(  # Define the second layer\n",
        "            nn.Conv2d(32, 64, kernel_size=3),  # 2D convolutional layer\n",
        "            nn.ReLU(),  # ReLU activation function\n",
        "            nn.MaxPool2d(kernel_size=2, stride=2)  # Max pooling layer\n",
        "        )\n",
        "        self.fc1 = nn.Linear(64*6*6, 100)  # Fully connected layer\n",
        "        self.dropout = nn.Dropout(0.5)  # Dropout layer\n",
        "        self.fc2 = nn.Linear(100, 10)  # Output layer\n",
        "\n",
        "    def forward(self, x):  # Forward pass method\n",
        "        x = self.layer1(x)  # Pass input through the first layer\n",
        "        x = self.layer2(x)  # Pass input through the second layer\n",
        "        x = x.view(x.size(0), -1)  # Flatten the output\n",
        "        x = self.fc1(x)  # Pass input through the fully connected layer\n",
        "        x = self.dropout(x)  # Apply dropout\n",
        "        x = self.fc2(x)  # Pass input through the output layer\n",
        "        return x  # Return the final output"
      ],
      "metadata": {
        "id": "Elg1bWu56VhH"
      },
      "id": "Elg1bWu56VhH",
      "execution_count": 8,
      "outputs": []
    },
    {
      "cell_type": "markdown",
      "source": [
        "### Adam Optimizer\n",
        "\n",
        "Adam Optimizer는 확률적 경사 하강법(Stochastic Gradient Descent)의 변형으로, 학습 속도와 성능을 향상시키기 위해 설계된 최적화 알고리즘입니다. Adam은 Adaptive Moment Estimation의 약자로, 1차 및 2차 모멘트를 사용하여 학습률을 조정합니다.\n",
        "\n",
        "Adam Optimizer의 주요 특징:\n",
        "- **적응적 학습률**: 각 파라미터마다 학습률을 개별적으로 조정하여 학습 속도를 향상시킵니다.\n",
        "- **빠른 수렴 속도**: 다른 최적화 알고리즘보다 빠르게 수렴할 수 있습니다.\n",
        "- **넓은 사용 범위**: 다양한 딥러닝 모델에 효과적으로 적용할 수 있습니다.\n"
      ],
      "metadata": {
        "id": "ge5gIadtKi0G"
      },
      "id": "ge5gIadtKi0G"
    },
    {
      "cell_type": "code",
      "source": [
        "# Model Instance\n",
        "model = CNN()\n",
        "\n",
        "# Loss 및 Optimizer 설정\n",
        "criterion = nn.CrossEntropyLoss()\n",
        "optimizer = optim.Adam(model.parameters(), lr=learning_rate)"
      ],
      "metadata": {
        "id": "pnZmmN2W6ZDL"
      },
      "id": "pnZmmN2W6ZDL",
      "execution_count": 9,
      "outputs": []
    },
    {
      "cell_type": "code",
      "source": [
        "# Train Function\n",
        "def train(model, train_loader, criterion, optimizer, num_epochs):  # Define the training function\n",
        "    model.train()  # Set the model to training mode\n",
        "    total_step = len(train_loader)  # Get the total number of steps per epoch\n",
        "    train_losses = []  # List to store training losses\n",
        "\n",
        "    for epoch in range(num_epochs):  # Loop over epochs\n",
        "        running_loss = 0.0  # Initialize running loss\n",
        "\n",
        "        for i, (images, labels) in enumerate(train_loader):  # Loop over batches\n",
        "            outputs = model(images)  # Forward pass\n",
        "            loss = criterion(outputs, labels)  # Compute the loss\n",
        "\n",
        "            optimizer.zero_grad()  # Zero the gradients\n",
        "            loss.backward()  # Backpropagation\n",
        "            optimizer.step()  # Update the weights\n",
        "\n",
        "            running_loss += loss.item()  # Update running loss\n",
        "\n",
        "            if (i+1) % 100 == 0:  # Print log info every 100 steps\n",
        "                print(f'Epoch [{epoch+1}/{num_epochs}], Step [{i+1}/{total_step}], Loss: {loss.item():.4f}')  # Print the current loss\n",
        "\n",
        "        train_losses.append(running_loss / len(train_loader))  # Append average loss for the epoch\n",
        "\n",
        "    return train_losses  # Return training losses"
      ],
      "metadata": {
        "id": "3p-s971lEATP"
      },
      "id": "3p-s971lEATP",
      "execution_count": 10,
      "outputs": []
    },
    {
      "cell_type": "code",
      "source": [
        "# 모델 학습\n",
        "train_losses = train(model, train_loader, criterion, optimizer, num_epochs)  # Train the model"
      ],
      "metadata": {
        "colab": {
          "base_uri": "https://localhost:8080/"
        },
        "id": "tDmmL1jc6ipy",
        "outputId": "f5baf50a-98b0-4a1a-bade-b1b2d8f312f7"
      },
      "id": "tDmmL1jc6ipy",
      "execution_count": 11,
      "outputs": [
        {
          "output_type": "stream",
          "name": "stdout",
          "text": [
            "Epoch [1/10], Step [100/938], Loss: 0.0864\n",
            "Epoch [1/10], Step [200/938], Loss: 0.1501\n",
            "Epoch [1/10], Step [300/938], Loss: 0.1459\n",
            "Epoch [1/10], Step [400/938], Loss: 0.1074\n",
            "Epoch [1/10], Step [500/938], Loss: 0.0488\n",
            "Epoch [1/10], Step [600/938], Loss: 0.0417\n",
            "Epoch [1/10], Step [700/938], Loss: 0.1107\n",
            "Epoch [1/10], Step [800/938], Loss: 0.1261\n",
            "Epoch [1/10], Step [900/938], Loss: 0.0277\n",
            "Epoch [2/10], Step [100/938], Loss: 0.0524\n",
            "Epoch [2/10], Step [200/938], Loss: 0.0277\n",
            "Epoch [2/10], Step [300/938], Loss: 0.1601\n",
            "Epoch [2/10], Step [400/938], Loss: 0.0090\n",
            "Epoch [2/10], Step [500/938], Loss: 0.0812\n",
            "Epoch [2/10], Step [600/938], Loss: 0.1194\n",
            "Epoch [2/10], Step [700/938], Loss: 0.0733\n",
            "Epoch [2/10], Step [800/938], Loss: 0.0051\n",
            "Epoch [2/10], Step [900/938], Loss: 0.0939\n",
            "Epoch [3/10], Step [100/938], Loss: 0.0846\n",
            "Epoch [3/10], Step [200/938], Loss: 0.0042\n",
            "Epoch [3/10], Step [300/938], Loss: 0.0990\n",
            "Epoch [3/10], Step [400/938], Loss: 0.0097\n",
            "Epoch [3/10], Step [500/938], Loss: 0.0387\n",
            "Epoch [3/10], Step [600/938], Loss: 0.0291\n",
            "Epoch [3/10], Step [700/938], Loss: 0.0587\n",
            "Epoch [3/10], Step [800/938], Loss: 0.1090\n",
            "Epoch [3/10], Step [900/938], Loss: 0.0393\n",
            "Epoch [4/10], Step [100/938], Loss: 0.0042\n",
            "Epoch [4/10], Step [200/938], Loss: 0.0527\n",
            "Epoch [4/10], Step [300/938], Loss: 0.0253\n",
            "Epoch [4/10], Step [400/938], Loss: 0.0318\n",
            "Epoch [4/10], Step [500/938], Loss: 0.0012\n",
            "Epoch [4/10], Step [600/938], Loss: 0.1008\n",
            "Epoch [4/10], Step [700/938], Loss: 0.0047\n",
            "Epoch [4/10], Step [800/938], Loss: 0.0107\n",
            "Epoch [4/10], Step [900/938], Loss: 0.0448\n",
            "Epoch [5/10], Step [100/938], Loss: 0.0171\n",
            "Epoch [5/10], Step [200/938], Loss: 0.0123\n",
            "Epoch [5/10], Step [300/938], Loss: 0.0358\n",
            "Epoch [5/10], Step [400/938], Loss: 0.0517\n",
            "Epoch [5/10], Step [500/938], Loss: 0.0253\n",
            "Epoch [5/10], Step [600/938], Loss: 0.0003\n",
            "Epoch [5/10], Step [700/938], Loss: 0.0167\n",
            "Epoch [5/10], Step [800/938], Loss: 0.0320\n",
            "Epoch [5/10], Step [900/938], Loss: 0.0026\n",
            "Epoch [6/10], Step [100/938], Loss: 0.0038\n",
            "Epoch [6/10], Step [200/938], Loss: 0.0066\n",
            "Epoch [6/10], Step [300/938], Loss: 0.0050\n",
            "Epoch [6/10], Step [400/938], Loss: 0.0079\n",
            "Epoch [6/10], Step [500/938], Loss: 0.0019\n",
            "Epoch [6/10], Step [600/938], Loss: 0.0026\n",
            "Epoch [6/10], Step [700/938], Loss: 0.0009\n",
            "Epoch [6/10], Step [800/938], Loss: 0.0124\n",
            "Epoch [6/10], Step [900/938], Loss: 0.0585\n",
            "Epoch [7/10], Step [100/938], Loss: 0.0535\n",
            "Epoch [7/10], Step [200/938], Loss: 0.0314\n",
            "Epoch [7/10], Step [300/938], Loss: 0.0041\n",
            "Epoch [7/10], Step [400/938], Loss: 0.0488\n",
            "Epoch [7/10], Step [500/938], Loss: 0.0003\n",
            "Epoch [7/10], Step [600/938], Loss: 0.0088\n",
            "Epoch [7/10], Step [700/938], Loss: 0.0041\n",
            "Epoch [7/10], Step [800/938], Loss: 0.0289\n",
            "Epoch [7/10], Step [900/938], Loss: 0.0517\n",
            "Epoch [8/10], Step [100/938], Loss: 0.0067\n",
            "Epoch [8/10], Step [200/938], Loss: 0.0553\n",
            "Epoch [8/10], Step [300/938], Loss: 0.0672\n",
            "Epoch [8/10], Step [400/938], Loss: 0.0417\n",
            "Epoch [8/10], Step [500/938], Loss: 0.0100\n",
            "Epoch [8/10], Step [600/938], Loss: 0.0048\n",
            "Epoch [8/10], Step [700/938], Loss: 0.0006\n",
            "Epoch [8/10], Step [800/938], Loss: 0.0076\n",
            "Epoch [8/10], Step [900/938], Loss: 0.0048\n",
            "Epoch [9/10], Step [100/938], Loss: 0.0010\n",
            "Epoch [9/10], Step [200/938], Loss: 0.0011\n",
            "Epoch [9/10], Step [300/938], Loss: 0.0085\n",
            "Epoch [9/10], Step [400/938], Loss: 0.0011\n",
            "Epoch [9/10], Step [500/938], Loss: 0.0157\n",
            "Epoch [9/10], Step [600/938], Loss: 0.0034\n",
            "Epoch [9/10], Step [700/938], Loss: 0.0156\n",
            "Epoch [9/10], Step [800/938], Loss: 0.0214\n",
            "Epoch [9/10], Step [900/938], Loss: 0.0663\n",
            "Epoch [10/10], Step [100/938], Loss: 0.0005\n",
            "Epoch [10/10], Step [200/938], Loss: 0.0010\n",
            "Epoch [10/10], Step [300/938], Loss: 0.0020\n",
            "Epoch [10/10], Step [400/938], Loss: 0.0029\n",
            "Epoch [10/10], Step [500/938], Loss: 0.0355\n",
            "Epoch [10/10], Step [600/938], Loss: 0.0202\n",
            "Epoch [10/10], Step [700/938], Loss: 0.0212\n",
            "Epoch [10/10], Step [800/938], Loss: 0.0006\n",
            "Epoch [10/10], Step [900/938], Loss: 0.0101\n"
          ]
        }
      ]
    },
    {
      "cell_type": "markdown",
      "source": [
        "## Weights and Biases (wandb)\n",
        "\n",
        "보통 DL model을 학습하고, 평가할 때 시각화는 wandb를 통해서 많이 진행합니다. 하지만 colab에서는 직접 시각화하는게 편한 경우가 많아서 아래와 같이 plot합니다.\n",
        "\n",
        "Weights and Biases (wandb)는 머신 러닝 실험을 추적하고 시각화하는 도구입니다. wandb를 사용하면 실험 결과를 손쉽게 기록하고 비교할 수 있습니다.\n",
        "\n",
        "wandb의 주요 기능:\n",
        "- **실험 추적**: 학습 과정의 메트릭을 실시간으로 기록하고 시각화합니다.\n",
        "- **모델 저장**: 학습된 모델을 쉽게 저장하고 공유할 수 있습니다.\n",
        "- **협업**: 팀원들과 실험 결과를 공유하고 협력할 수 있습니다.\n"
      ],
      "metadata": {
        "id": "YG3heD2yFQtM"
      },
      "id": "YG3heD2yFQtM"
    },
    {
      "cell_type": "code",
      "source": [
        "# Loss Visualization\n",
        "plt.plot(train_losses, label='Train Loss')  # Plot training losses\n",
        "plt.title('Train Loss')  # Set plot title\n",
        "plt.xlabel('Epoch')  # Set x-axis label\n",
        "plt.ylabel('Loss')  # Set y-axis label\n",
        "plt.legend()  # Show legend\n",
        "plt.show()  # Display the plot"
      ],
      "metadata": {
        "id": "qWtYyOpwCK5h",
        "colab": {
          "base_uri": "https://localhost:8080/",
          "height": 472
        },
        "outputId": "37158581-a171-465d-f8d4-76e57187b5cf"
      },
      "id": "qWtYyOpwCK5h",
      "execution_count": 12,
      "outputs": [
        {
          "output_type": "display_data",
          "data": {
            "text/plain": [
              "<Figure size 640x480 with 1 Axes>"
            ],
            "image/png": "[encoded data removed]"
          },
          "metadata": {}
        }
      ]
    },
    {
      "cell_type": "code",
      "source": [
        "# Evaluation Function\n",
        "def evaluate(model, test_loader):\n",
        "    model.eval()\n",
        "    with torch.no_grad():\n",
        "        correct = 0\n",
        "        total = 0\n",
        "        for images, labels in test_loader:\n",
        "            outputs = model(images)\n",
        "            _, predicted = torch.max(outputs.data, 1)\n",
        "            total += labels.size(0)\n",
        "            correct += (predicted == labels).sum().item()\n",
        "        print(f'Test Accuracy of the model on the 10000 test images: {100 * correct / total} %')"
      ],
      "metadata": {
        "id": "l9aNnMIS6fer"
      },
      "id": "l9aNnMIS6fer",
      "execution_count": 13,
      "outputs": []
    },
    {
      "cell_type": "code",
      "source": [
        "# Model Evaluation\n",
        "evaluate(model, test_loader)"
      ],
      "metadata": {
        "colab": {
          "base_uri": "https://localhost:8080/"
        },
        "id": "4Dufo7yb6757",
        "outputId": "f9b1d223-b803-4035-9812-868bc3a4989d"
      },
      "id": "4Dufo7yb6757",
      "execution_count": 14,
      "outputs": [
        {
          "output_type": "stream",
          "name": "stdout",
          "text": [
            "Test Accuracy of the model on the 10000 test images: 99.19 %\n"
          ]
        }
      ]
    }
  ],
  "metadata": {
    "colab": {
      "provenance": [],
      "gpuType": "T4"
    },
    "language_info": {
      "name": "python"
    },
    "kernelspec": {
      "name": "python3",
      "display_name": "Python 3"
    },
    "accelerator": "GPU"
  },
  "nbformat": 4,
  "nbformat_minor": 5
}