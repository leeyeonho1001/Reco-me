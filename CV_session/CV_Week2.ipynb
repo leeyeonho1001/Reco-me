{
  "cells": [
    {
      "cell_type": "markdown",
      "metadata": {
        "id": "RknQRcmWG9ma"
      },
      "source": [
        "# 과제1\n",
        "코드의 빈칸을 채우고, 셀로 나눈 후 주석을 자유롭게 달아주세요."
      ]
    },
    {
      "cell_type": "markdown",
      "metadata": {
        "id": "2rKWxd27Rq-Q"
      },
      "source": [
        "## CIFAR-10\n",
        "\n",
        "rgbscale 이미지, channel 수 : 3, class 수 : 10  \n",
        "train data : 50000개, test data : 10000개"
      ]
    },
    {
      "cell_type": "code",
      "execution_count": null,
      "metadata": {
        "id": "N2ey7T4kRpt9"
      },
      "outputs": [],
      "source": [
        "# Import Libraries\n",
        "import torch\n",
        "import torch.nn as nn\n",
        "import torch.optim as optim\n",
        "from torch.utils.data import DataLoader\n",
        "from torchvision import datasets, transforms\n",
        "import numpy as np\n",
        "\n",
        "# Data Preparation\n",
        "transform = transforms.Compose([\n",
        "    transforms.Resize((32, 32)), # img : (3, 32, 32)\n",
        "    transforms.ToTensor(),\n",
        "    transforms.Normalize((0.5, 0.5, 0.5), (0.5, 0.5, 0.5)),\n",
        "])\n",
        "\n",
        "train_dataset = datasets.CIFAR10(root='./data', train=True, download=True, transform=transform)\n",
        "test_dataset = datasets.CIFAR10(root='./data', train=False, download=True, transform=transform)\n",
        "\n",
        "train_loader = DataLoader(train_dataset, batch_size=64, shuffle=True)\n",
        "test_loader = DataLoader(test_dataset, batch_size=64, shuffle=False)"
      ]
    },
    {
      "cell_type": "markdown",
      "metadata": {
        "id": "p4GKfPpxJcbr"
      },
      "source": [
        "## Patch Embedding"
      ]
    },
    {
      "cell_type": "code",
      "execution_count": null,
      "metadata": {
        "id": "mdzF78y5Jr8H"
      },
      "outputs": [],
      "source": [
        "class PatchEmbedding(nn.Module):\n",
        "    def __init__(self, in_channels=3, patch_size=4, emb_size=128, img_size=32): # 입력 채널(R, G, B): 3\n",
        "        super().__init__()\n",
        "        self.patch_size = patch_size\n",
        "        self.projection = nn.Conv2d(in_channels, emb_size, kernel_size=patch_size, stride=patch_size)\n",
        "        self.cls_token = nn.Parameter(torch.randn(1, 1, emb_size)) # 1 x 128\n",
        "        self.position_embedding = nn.Parameter(torch.randn((img_size // patch_size) ** 2 + 1, emb_size)) # (N+1) x 128 # N = num_patch, 1 = class token\n",
        "\n",
        "    def forward(self, x):\n",
        "        batch_size = x.shape[0]\n",
        "        x = self.projection(x).flatten(2).transpose(1,2) # (batch_size, 128, 8, 8) -> (batch_size, 64, 128)\n",
        "        cls_tokens = self.cls_token.expand(batch_size, -1, -1) # (batch_size, 1, 128)\n",
        "        x = torch.cat((cls_tokens, x), dim=1) # (batch_size, 65, 128)\n",
        "        x += self.position_embedding # (batch_size, 65, 128)\n",
        "        return x"
      ]
    },
    {
      "cell_type": "markdown",
      "metadata": {
        "id": "rFELScruRnMN"
      },
      "source": [
        "## Transformer Encoder"
      ]
    },
    {
      "cell_type": "code",
      "execution_count": null,
      "metadata": {
        "id": "QKYIdfAdSIwa"
      },
      "outputs": [],
      "source": [
        "# MHA(Multi head attention)\n",
        "class MultiHeadAttention(nn.Module):\n",
        "    def __init__(self, emb_size=128, num_heads=8):\n",
        "        super().__init__()\n",
        "        self.emb_size = emb_size\n",
        "        self.num_heads = num_heads\n",
        "        self.qkv = nn.Linear(emb_size, emb_size * 3) # emb_size 3배로 선형 변환\n",
        "        self.attention = nn.MultiheadAttention(embed_dim=emb_size, num_heads=num_heads)\n",
        "        self.linear = nn.Linear(emb_size, emb_size)\n",
        "\n",
        "    def forward(self, x):\n",
        "        qkv = self.qkv(x).chunk(3, dim=-1) # 입력 텐서를 query, key, value 3개의 텐서로 분할\n",
        "        x, _ = self.attention(qkv[0], qkv[1], qkv[2]) # q, k, v값을 기반으로 attention 계산 (65, 128) -> (65, 16)\n",
        "        x = self.linear(x) # 선형 변환 (65, 16) -> (65, 128)\n",
        "        return x\n",
        "\n",
        "# Layer Normalization -> MHA -> Layer Normalization -> MLP\n",
        "class TransformerBlock(nn.Module):\n",
        "    def __init__(self, emb_size=128, num_heads=8, ff_hidden_mult=4, dropout=0.1):\n",
        "        super().__init__()\n",
        "        self.norm1 = nn.LayerNorm(emb_size) # LN1\n",
        "        self.mha = MultiHeadAttention(emb_size, num_heads) # MHA\n",
        "        self.norm2 = nn.LayerNorm(emb_size) # LN2\n",
        "        self.ff = nn.Sequential(\n",
        "            nn.Linear(emb_size, ff_hidden_mult * emb_size),\n",
        "            nn.ReLU(),\n",
        "            nn.Linear(ff_hidden_mult * emb_size, emb_size),\n",
        "        ) # MLP\n",
        "        self.dropout = nn.Dropout(dropout)\n",
        "\n",
        "    def forward(self, x):\n",
        "        x = x + self.dropout(self.mha(self.norm1(x))) # LN1 -> MHA 후 dropout 한 값과 입력값을 더함\n",
        "        x = x + self.dropout(self.ff(self.norm2(x))) # LN2 -> MLP 후 dropout 한 값과 입력값을 더함\n",
        "        return x"
      ]
    },
    {
      "cell_type": "markdown",
      "metadata": {
        "id": "gXxNR5fqVwKs"
      },
      "source": [
        "## ViT Modeling "
      ]
    },
    {
      "cell_type": "code",
      "execution_count": null,
      "metadata": {
        "id": "B3EfXHtCV--s"
      },
      "outputs": [],
      "source": [
        "class ViT(nn.Module):\n",
        "    def __init__(self, img_size=32, patch_size=4, emb_size=128, num_heads=8, depth=6, num_classes=10):\n",
        "        super().__init__()\n",
        "        self.patch_embedding = PatchEmbedding(patch_size=patch_size, emb_size=emb_size, img_size=img_size)\n",
        "        self.transformer = nn.Sequential(\n",
        "            *[TransformerBlock(emb_size, num_heads) for _ in range(depth)]\n",
        "        ) # transformer encoder를 depth개 생성\n",
        "        self.mlp_head = nn.Sequential(\n",
        "            nn.LayerNorm(emb_size),\n",
        "            nn.Linear(emb_size, num_classes)\n",
        "        ) # classification을 위한 mlp head\n",
        "\n",
        "    def forward(self, x):\n",
        "        x = self.patch_embedding(x) # 이미지를 패치 임베딩\n",
        "        x = self.transformer(x) # 패치 임베딩을 transformer encoder에 통과\n",
        "        cls_token = x[:, 0]\n",
        "        x = self.mlp_head(cls_token) # 최종 클래스 예측\n",
        "        return x"
      ]
    },
    {
      "cell_type": "markdown",
      "metadata": {
        "id": "3oxiOEMjhP0x"
      },
      "source": [
        "## Train & Test"
      ]
    },
    {
      "cell_type": "code",
      "execution_count": null,
      "metadata": {
        "id": "3-xGWqvxhPRk"
      },
      "outputs": [],
      "source": [
        "# Train / Test func\n",
        "def train(model, dataloader, criterion, optimizer, device):\n",
        "    model.train()\n",
        "    running_loss = 0.0\n",
        "    for inputs, labels in dataloader:\n",
        "        inputs, labels = inputs.to(device), labels.to(device)\n",
        "        optimizer.zero_grad()\n",
        "        outputs = model(inputs)\n",
        "        loss = criterion(outputs, labels)\n",
        "        loss.backward()\n",
        "        optimizer.step()\n",
        "        running_loss += loss.item() * inputs.size(0)\n",
        "    return running_loss / len(dataloader.dataset)\n",
        "\n",
        "def evaluate(model, dataloader, criterion, device):\n",
        "    model.eval()\n",
        "    running_loss = 0.0\n",
        "    correct = 0\n",
        "    with torch.no_grad():\n",
        "        for inputs, labels in dataloader:\n",
        "            inputs, labels = inputs.to(device), labels.to(device)\n",
        "            outputs = model(inputs)\n",
        "            loss = criterion(outputs, labels)\n",
        "            running_loss += loss.item() * inputs.size(0)\n",
        "            _, preds = torch.max(outputs, 1)\n",
        "            correct += torch.sum(preds == labels.data)\n",
        "    return running_loss / len(dataloader.dataset), correct.double() / len(dataloader.dataset)\n",
        "\n",
        "device = torch.device('cuda' if torch.cuda.is_available() else 'cpu')\n",
        "model = ViT().to(device)\n",
        "criterion = nn.CrossEntropyLoss() # loss function : CrossEntropyLoss\n",
        "optimizer = optim.Adam(model.parameters(), lr=1e-4) # opimizer : Adam\n",
        "\n",
        "# Step 5 : Train & Test\n",
        "\n",
        "num_epochs = 10 # epoch : 10\n",
        "for epoch in range(num_epochs):\n",
        "    train_loss = train(model, train_loader, criterion, optimizer, device)\n",
        "    test_loss, test_accuracy = evaluate(model, test_loader, criterion, device)\n",
        "    print(f'Epoch {epoch+1}/{num_epochs}.. '\n",
        "          f'Train loss: {train_loss:.4f}.. '\n",
        "          f'Test loss: {test_loss:.4f}.. '\n",
        "          f'Test accuracy: {test_accuracy:.4f}')\n",
        "\n",
        "# Save the trained model\n",
        "torch.save(model.state_dict(), 'vit_cifar10.pth')"
      ]
    },
    {
      "cell_type": "markdown",
      "metadata": {
        "id": "uyXtVwgLtGtq"
      },
      "source": [
        "ViT가 large-scale dataset에서 충분히 pre-train 되지 않아 정확도가 낮음. 해당 CIFAR-10 데이터셋만으로는 성능이 좋지 않다."
      ]
    },
    {
      "cell_type": "markdown",
      "metadata": {
        "id": "SaqG0SkRG9md"
      },
      "source": [
        "# 과제2\n",
        "다른 Dataset으로 Classification을 다시 진행(학습, 평가)해보고 위의 결과와 비교해보세요"
      ]
    },
    {
      "cell_type": "markdown",
      "metadata": {
        "id": "YVsf2vs5JDAn"
      },
      "source": [
        "# FashionMNIST\n",
        "\n",
        "grayscale 이미지, 채널 수 : 10, 클래스 수 : 10  \n",
        "train data : 60000개, test data : 10000개"
      ]
    },
    {
      "cell_type": "code",
      "execution_count": null,
      "metadata": {
        "id": "RsyDTL-UrsLn"
      },
      "outputs": [],
      "source": [
        "# Step 1: Import Libraries\n",
        "import torch\n",
        "import torch.nn as nn\n",
        "import torch.optim as optim\n",
        "from torch.utils.data import DataLoader\n",
        "from torchvision import datasets, transforms\n",
        "import numpy as np\n",
        "\n",
        "# Step 2: Data Preparation\n",
        "transform = transforms.Compose([\n",
        "    transforms.Resize((32, 32)), # img : (1, 32, 32)\n",
        "    transforms.ToTensor(),\n",
        "    transforms.Normalize((0.5,), (0.5,)),\n",
        "])\n",
        "\n",
        "train_dataset = datasets.FashionMNIST(root='./data', train=True, download=True, transform=transform)\n",
        "test_dataset = datasets.FashionMNIST(root='./data', train=False, download=True, transform=transform)\n",
        "\n",
        "train_loader = DataLoader(train_dataset, batch_size=64, shuffle=True)\n",
        "test_loader = DataLoader(test_dataset, batch_size=64, shuffle=False)\n",
        "\n",
        "# Step 3: Define Vision Transformer (ViT) Architecture\n",
        "class PatchEmbedding(nn.Module):\n",
        "    def __init__(self, in_channels=1, patch_size=4, emb_size=128, img_size=32):\n",
        "        super().__init__()\n",
        "        self.patch_size = patch_size\n",
        "        self.projection = nn.Conv2d(in_channels, emb_size, kernel_size=patch_size, stride=patch_size)\n",
        "        self.cls_token = nn.Parameter(torch.randn(1, 1, emb_size))\n",
        "        self.position_embedding = nn.Parameter(torch.randn((img_size // patch_size) ** 2 + 1, emb_size))\n",
        "\n",
        "    def forward(self, x):\n",
        "        batch_size = x.shape[0]\n",
        "        x = self.projection(x).flatten(2).transpose(1,2)\n",
        "        cls_tokens = self.cls_token.expand(batch_size, -1, -1)\n",
        "        x = torch.cat((cls_tokens, x), dim=1)\n",
        "        x += self.position_embedding\n",
        "        return x\n",
        "\n",
        "class MultiHeadAttention(nn.Module):\n",
        "    def __init__(self, emb_size=128, num_heads=8):\n",
        "        super().__init__()\n",
        "        self.emb_size = emb_size\n",
        "        self.num_heads = num_heads\n",
        "        self.qkv = nn.Linear(emb_size, emb_size * 3)\n",
        "        self.attention = nn.MultiheadAttention(embed_dim=emb_size, num_heads=num_heads)\n",
        "        self.linear = nn.Linear(emb_size, emb_size)\n",
        "\n",
        "    def forward(self, x):\n",
        "        qkv = self.qkv(x).chunk(3, dim=-1)\n",
        "        x, _ = self.attention(qkv[0], qkv[1], qkv[2])\n",
        "        x = self.linear(x)\n",
        "        return x\n",
        "\n",
        "class TransformerBlock(nn.Module):\n",
        "    def __init__(self, emb_size=128, num_heads=8, ff_hidden_mult=4, dropout=0.1):\n",
        "        super().__init__()\n",
        "        self.norm1 = nn.LayerNorm(emb_size)\n",
        "        self.mha = MultiHeadAttention(emb_size, num_heads)\n",
        "        self.norm2 = nn.LayerNorm(emb_size)\n",
        "        self.ff = nn.Sequential(\n",
        "            nn.Linear(emb_size, ff_hidden_mult * emb_size),\n",
        "            nn.ReLU(),\n",
        "            nn.Linear(ff_hidden_mult * emb_size, emb_size),\n",
        "        )\n",
        "        self.dropout = nn.Dropout(dropout)\n",
        "\n",
        "    def forward(self, x):\n",
        "        x = x + self.dropout(self.mha(self.norm1(x)))\n",
        "        x = x + self.dropout(self.ff(self.norm2(x)))\n",
        "        return x\n",
        "\n",
        "class ViT(nn.Module):\n",
        "    def __init__(self, img_size=32, patch_size=4, emb_size=128, num_heads=8, depth=6, num_classes=10):\n",
        "        super().__init__()\n",
        "        self.patch_embedding = PatchEmbedding(patch_size=patch_size, emb_size=emb_size, img_size=img_size)\n",
        "        self.transformer = nn.Sequential(\n",
        "            *[TransformerBlock(emb_size, num_heads) for _ in range(depth)]\n",
        "        )\n",
        "        self.mlp_head = nn.Sequential(\n",
        "            nn.LayerNorm(emb_size),\n",
        "            nn.Linear(emb_size, num_classes)\n",
        "        )\n",
        "\n",
        "    def forward(self, x):\n",
        "        x = self.patch_embedding(x)\n",
        "        x = self.transformer(x)\n",
        "        cls_token = x[:, 0]\n",
        "        x = self.mlp_head(cls_token)\n",
        "        return x\n",
        "\n",
        "# Step 4: Train / Test func\n",
        "def train(model, dataloader, criterion, optimizer, device):\n",
        "    model.train()\n",
        "    running_loss = 0.0\n",
        "    for inputs, labels in dataloader:\n",
        "        inputs, labels = inputs.to(device), labels.to(device)\n",
        "        optimizer.zero_grad()\n",
        "        outputs = model(inputs)\n",
        "        loss = criterion(outputs, labels)\n",
        "        loss.backward()\n",
        "        optimizer.step()\n",
        "        running_loss += loss.item() * inputs.size(0)\n",
        "    return running_loss / len(dataloader.dataset)\n",
        "\n",
        "def evaluate(model, dataloader, criterion, device):\n",
        "    model.eval()\n",
        "    running_loss = 0.0\n",
        "    correct = 0\n",
        "    with torch.no_grad():\n",
        "        for inputs, labels in dataloader:\n",
        "            inputs, labels = inputs.to(device), labels.to(device)\n",
        "            outputs = model(inputs)\n",
        "            loss = criterion(outputs, labels)\n",
        "            running_loss += loss.item() * inputs.size(0)\n",
        "            _, preds = torch.max(outputs, 1)\n",
        "            correct += torch.sum(preds == labels.data)\n",
        "    return running_loss / len(dataloader.dataset), correct.double() / len(dataloader.dataset)\n",
        "\n",
        "device = torch.device('cuda' if torch.cuda.is_available() else 'cpu')\n",
        "model = ViT().to(device)\n",
        "criterion = nn.CrossEntropyLoss()\n",
        "optimizer = optim.Adam(model.parameters(), lr=1e-4)\n",
        "\n",
        "# Step 5 : Train & Test\n",
        "\n",
        "num_epochs = 10\n",
        "for epoch in range(num_epochs):\n",
        "    train_loss = train(model, train_loader, criterion, optimizer, device)\n",
        "    test_loss, test_accuracy = evaluate(model, test_loader, criterion, device)\n",
        "    print(f'Epoch {epoch+1}/{num_epochs}.. '\n",
        "          f'Train loss: {train_loss:.4f}.. '\n",
        "          f'Test loss: {test_loss:.4f}.. '\n",
        "          f'Test accuracy: {test_accuracy:.4f}')\n",
        "\n",
        "# Save the trained model\n",
        "torch.save(model.state_dict(), 'vit_fashionmnist.pth')\n"
      ]
    },
    {
      "cell_type": "markdown",
      "metadata": {
        "id": "EE37yQFg0tE-"
      },
      "source": [
        "loss가 CIFAR-10에 비해 미세하게 감소하였다. 많은 데이터셋에 훈련을 시킬수록 ViT 모델의 성능이 향상된다는 것을 알 수 있다."
      ]
    }
  ],
  "metadata": {
    "accelerator": "GPU",
    "colab": {
      "gpuType": "T4",
      "private_outputs": true,
      "provenance": []
    },
    "kernelspec": {
      "display_name": "Python 3",
      "name": "python3"
    },
    "language_info": {
      "name": "python"
    }
  },
  "nbformat": 4,
  "nbformat_minor": 0
}
